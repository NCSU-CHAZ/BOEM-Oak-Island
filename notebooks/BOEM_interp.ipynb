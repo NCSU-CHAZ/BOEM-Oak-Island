{
 "cells": [
  {
   "cell_type": "markdown",
   "metadata": {},
   "source": [
    "# Guide 1. Loading raw and quality controlled ADCP data"
   ]
  },
  {
   "cell_type": "markdown",
   "metadata": {},
   "source": [
    "This notebook is prepared for Moffat and Nichol by the NCSU Coastal Hazards Lab (Dr. Katherine Anarde, Levi Lavengood, Brooke Gaenzle, Elizabeth Farquhar) for the analysis, visualization, and interpretation of data collected as part of the Frying Pan Shoals Hydrodynamic Characterization project (2024-2025). Subsequent notebooks (Guides 2 - 5) will detail individual deployments and summarize bulk statistics. All scripts used for post-processing (quality control and bulk statistics) are included in the parent directory and referenced herein by name where appropriate."
   ]
  },
  {
   "cell_type": "markdown",
   "metadata": {},
   "source": [
    "**Data Collection**\n",
    "\n",
    "\n",
    "Data collection for all deployments utilized two Nortek Signature 1000 High Resolution acoustic doppler current profilers (ADCPs), herein referenced as S0_103080 and S1_101481. The ADCPs collected data at 4 Hz, including binned water velocities throughout the water column, water surface measurements (from the 5th beam), pressure, and instrument orientation (pitch, heading, roll) over the course of each deployment, which spanned a minimum of 20 days. Herein, we utilize data from Deployment 1 (spanning August 20th to September 19th) to illustrate the outputs of data quality control procedures. For a complete description of quality control procedures, the reader is directed to the *Sig1k_Writeup.pdf* in the same folder as this notebook."
   ]
  },
  {
   "cell_type": "markdown",
   "metadata": {},
   "source": [
    "**1. Summary of post-processing workflow**"
   ]
  },
  {
   "cell_type": "markdown",
   "metadata": {},
   "source": [
    "The ADCP onboard processor breaks data streams into multiple files for storage, with each file being 1 gigabyte in size. For Deployment 1, this resulted in approximately 30 1 GB files of raw data for each ADCP, with each file containing approximately 24 hours of data. The file types for the raw data files are .mat (`Matlab`) and the data are organized as structures. \n",
    "\n",
    "The first step in our post-processing workflow is to convert the .mat file to a format more manageable for data manipulation in python. Here we use the HDF5 format. Due to the size of the data stream and memory constraints we opted to post-process the data in each 1 GB .mat file individually. Herein, we use the term \"groups\" to organize data associated with each raw mat file. Within each group, there are HDF5 files for each variable of interest (e.g., Time.h5, Pressure.h5, NorthVel.h5). The data can be read using `pandas`, as shown below.  "
   ]
  },
  {
   "cell_type": "markdown",
   "metadata": {},
   "source": [
    "**2. Loading HDF5 files**"
   ]
  },
  {
   "cell_type": "markdown",
   "metadata": {},
   "source": [
    "Below is an example on how to read-in and interpret data after quality control from a single HDF5 file in Group 1 from S0-103080. First, extract the file names in the examlple directory provided:"
   ]
  },
  {
   "cell_type": "code",
   "execution_count": 1,
   "metadata": {},
   "outputs": [],
   "source": [
    "# Import necessary packages\n",
    "import pandas as pd\n",
    "import os\n",
    "import numpy as np\n",
    "import matplotlib.pyplot as plt\n",
    "import datetime\n",
    "import matplotlib.dates as dt\n",
    "import matplotlib.axes as axs\n",
    "\n",
    "from pathlib import Path\n",
    "\n",
    "datadir = \"BOEM_interp_data/Deploy1_Group1_S0103080/\"\n",
    "sampling_frequency = 4"
   ]
  },
  {
   "cell_type": "code",
   "execution_count": 2,
   "metadata": {},
   "outputs": [
    {
     "name": "stdout",
     "output_type": "stream",
     "text": [
      "['ErrVel.h5', 'Pressure.h5', 'VertVel.h5', 'CellDepth.h5', 'Time.h5', 'EastVel.h5', 'NorthVel.h5', 'Heading.h5', 'Roll.h5', 'AbsVel.h5', 'Pitch.h5']\n"
     ]
    }
   ],
   "source": [
    "files = os.listdir(Path(datadir)) # list of files in Group 1\n",
    "print(files) # prints out a list of all of the data files within Group 1"
   ]
  },
  {
   "cell_type": "markdown",
   "metadata": {},
   "source": [
    "Read-in the HDF5 files containing data and create a dictionary called `data`."
   ]
  },
  {
   "cell_type": "code",
   "execution_count": 3,
   "metadata": {},
   "outputs": [
    {
     "name": "stdout",
     "output_type": "stream",
     "text": [
      "ErrVel\n",
      "Pressure\n",
      "VertVel\n",
      "CellDepth\n",
      "Time\n",
      "EastVel\n",
      "NorthVel\n",
      "Heading\n",
      "Roll\n",
      "AbsVel\n",
      "Pitch\n"
     ]
    }
   ],
   "source": [
    "data = {}\n",
    "for file in files:\n",
    "    file_path = os.path.join(datadir, file)  # file path\n",
    "    df = pd.read_hdf(file_path)  # read the file into a Pandas dataframe\n",
    "    file_name = file_path.split('/')[-1].split('.')[0]  # file name \n",
    "    print(file_name)\n",
    "    data[file_name] = df  # store dataframe"
   ]
  },
  {
   "cell_type": "markdown",
   "metadata": {},
   "source": [
    "Now we can look at each parameter in our `data` dictionary, shown here for the Absolute Velocity. The rows correspond to time and the columns the binned depth (discussed below)."
   ]
  },
  {
   "cell_type": "code",
   "execution_count": 4,
   "metadata": {},
   "outputs": [
    {
     "name": "stdout",
     "output_type": "stream",
     "text": [
      "              0         1         2         3         4         5         6   \\\n",
      "0            NaN       NaN       NaN       NaN       NaN       NaN       NaN   \n",
      "1            NaN       NaN       NaN       NaN       NaN       NaN       NaN   \n",
      "2            NaN       NaN       NaN       NaN       NaN       NaN       NaN   \n",
      "3            NaN       NaN       NaN       NaN       NaN       NaN       NaN   \n",
      "4            NaN       NaN       NaN       NaN       NaN       NaN       NaN   \n",
      "...          ...       ...       ...       ...       ...       ...       ...   \n",
      "345595  0.174225  0.229429  0.171379  0.186742  0.526882  0.202831  0.245317   \n",
      "345596  0.094579  0.179882  0.145588  0.286287  0.756010  0.943179  0.954356   \n",
      "345597  0.207274  0.343940  0.146397  0.586909  1.134467  0.964396  0.900018   \n",
      "345598  0.178417  0.135677  0.084975  0.225680  0.348949  0.240426  0.070925   \n",
      "345599  0.093963  0.275459  0.159054  0.194653  0.747966  0.655495  0.479443   \n",
      "\n",
      "              7         8         9   ...  20  21  22  23  24  25  26  27  28  \\\n",
      "0            NaN       NaN       NaN  ... NaN NaN NaN NaN NaN NaN NaN NaN NaN   \n",
      "1            NaN       NaN       NaN  ... NaN NaN NaN NaN NaN NaN NaN NaN NaN   \n",
      "2            NaN       NaN       NaN  ... NaN NaN NaN NaN NaN NaN NaN NaN NaN   \n",
      "3            NaN       NaN       NaN  ... NaN NaN NaN NaN NaN NaN NaN NaN NaN   \n",
      "4            NaN       NaN       NaN  ... NaN NaN NaN NaN NaN NaN NaN NaN NaN   \n",
      "...          ...       ...       ...  ...  ..  ..  ..  ..  ..  ..  ..  ..  ..   \n",
      "345595  0.267931  0.101850  0.138821  ... NaN NaN NaN NaN NaN NaN NaN NaN NaN   \n",
      "345596  1.465476  0.160607  0.094845  ... NaN NaN NaN NaN NaN NaN NaN NaN NaN   \n",
      "345597  1.252080  0.147786  0.202782  ... NaN NaN NaN NaN NaN NaN NaN NaN NaN   \n",
      "345598  0.253880  0.134889  0.219182  ... NaN NaN NaN NaN NaN NaN NaN NaN NaN   \n",
      "345599  0.592239  0.173726  0.289818  ... NaN NaN NaN NaN NaN NaN NaN NaN NaN   \n",
      "\n",
      "        29  \n",
      "0      NaN  \n",
      "1      NaN  \n",
      "2      NaN  \n",
      "3      NaN  \n",
      "4      NaN  \n",
      "...     ..  \n",
      "345595 NaN  \n",
      "345596 NaN  \n",
      "345597 NaN  \n",
      "345598 NaN  \n",
      "345599 NaN  \n",
      "\n",
      "[345600 rows x 30 columns]\n"
     ]
    }
   ],
   "source": [
    "print(data['AbsVel']) "
   ]
  },
  {
   "cell_type": "markdown",
   "metadata": {},
   "source": [
    "**2. Understanding QC'ed Variables**"
   ]
  },
  {
   "cell_type": "markdown",
   "metadata": {},
   "source": [
    "The **CellDepth** represents the nominal depth (m) of each cell (or \"bin\"). Within each cell, the ADCP reports an average value for both velocity and pressure (see figures below) for each timestep. The dimension of the CellDepth data frame here is 30 rows x 1 column, where the number of rows equals the number of cells from the location of the ADCP at the seafloor (row 0, 0.6 m -- just beyond the blanking distance) up to the water surface (row 29, 15.1 m). The number of cells does not change over time. Here, the cells are 0.5-m long. If the distance to the water surface elevation (depth) is smaller than the maximum CellDepth of 15.1 m, the data will be reported as NaNs for these cells. This can be seen in later plots within this notebook.\n",
    "\n",
    "For plotting purposes, we create copies of this matrix to match the number of timesteps in the group."
   ]
  },
  {
   "cell_type": "code",
   "execution_count": 5,
   "metadata": {
    "scrolled": true
   },
   "outputs": [
    {
     "name": "stdout",
     "output_type": "stream",
     "text": [
      "       0\n",
      "0    0.6\n",
      "1    1.1\n",
      "2    1.6\n",
      "3    2.1\n",
      "4    2.6\n",
      "5    3.1\n",
      "6    3.6\n",
      "7    4.1\n",
      "8    4.6\n",
      "9    5.1\n",
      "10   5.6\n",
      "11   6.1\n",
      "12   6.6\n",
      "13   7.1\n",
      "14   7.6\n",
      "15   8.1\n",
      "16   8.6\n",
      "17   9.1\n",
      "18   9.6\n",
      "19  10.1\n",
      "20  10.6\n",
      "21  11.1\n",
      "22  11.6\n",
      "23  12.1\n",
      "24  12.6\n",
      "25  13.1\n",
      "26  13.6\n",
      "27  14.1\n",
      "28  14.6\n",
      "29  15.1\n"
     ]
    }
   ],
   "source": [
    "print(data['CellDepth'])"
   ]
  },
  {
   "cell_type": "code",
   "execution_count": 6,
   "metadata": {},
   "outputs": [
    {
     "name": "stdout",
     "output_type": "stream",
     "text": [
      "345600 time steps =  24.0 hrs\n",
      "       0     0     0     0     0     0     0     0     0     0  ...     0  \\\n",
      "0    0.6   0.6   0.6   0.6   0.6   0.6   0.6   0.6   0.6   0.6  ...   0.6   \n",
      "1    1.1   1.1   1.1   1.1   1.1   1.1   1.1   1.1   1.1   1.1  ...   1.1   \n",
      "2    1.6   1.6   1.6   1.6   1.6   1.6   1.6   1.6   1.6   1.6  ...   1.6   \n",
      "3    2.1   2.1   2.1   2.1   2.1   2.1   2.1   2.1   2.1   2.1  ...   2.1   \n",
      "4    2.6   2.6   2.6   2.6   2.6   2.6   2.6   2.6   2.6   2.6  ...   2.6   \n",
      "5    3.1   3.1   3.1   3.1   3.1   3.1   3.1   3.1   3.1   3.1  ...   3.1   \n",
      "6    3.6   3.6   3.6   3.6   3.6   3.6   3.6   3.6   3.6   3.6  ...   3.6   \n",
      "7    4.1   4.1   4.1   4.1   4.1   4.1   4.1   4.1   4.1   4.1  ...   4.1   \n",
      "8    4.6   4.6   4.6   4.6   4.6   4.6   4.6   4.6   4.6   4.6  ...   4.6   \n",
      "9    5.1   5.1   5.1   5.1   5.1   5.1   5.1   5.1   5.1   5.1  ...   5.1   \n",
      "10   5.6   5.6   5.6   5.6   5.6   5.6   5.6   5.6   5.6   5.6  ...   5.6   \n",
      "11   6.1   6.1   6.1   6.1   6.1   6.1   6.1   6.1   6.1   6.1  ...   6.1   \n",
      "12   6.6   6.6   6.6   6.6   6.6   6.6   6.6   6.6   6.6   6.6  ...   6.6   \n",
      "13   7.1   7.1   7.1   7.1   7.1   7.1   7.1   7.1   7.1   7.1  ...   7.1   \n",
      "14   7.6   7.6   7.6   7.6   7.6   7.6   7.6   7.6   7.6   7.6  ...   7.6   \n",
      "15   8.1   8.1   8.1   8.1   8.1   8.1   8.1   8.1   8.1   8.1  ...   8.1   \n",
      "16   8.6   8.6   8.6   8.6   8.6   8.6   8.6   8.6   8.6   8.6  ...   8.6   \n",
      "17   9.1   9.1   9.1   9.1   9.1   9.1   9.1   9.1   9.1   9.1  ...   9.1   \n",
      "18   9.6   9.6   9.6   9.6   9.6   9.6   9.6   9.6   9.6   9.6  ...   9.6   \n",
      "19  10.1  10.1  10.1  10.1  10.1  10.1  10.1  10.1  10.1  10.1  ...  10.1   \n",
      "20  10.6  10.6  10.6  10.6  10.6  10.6  10.6  10.6  10.6  10.6  ...  10.6   \n",
      "21  11.1  11.1  11.1  11.1  11.1  11.1  11.1  11.1  11.1  11.1  ...  11.1   \n",
      "22  11.6  11.6  11.6  11.6  11.6  11.6  11.6  11.6  11.6  11.6  ...  11.6   \n",
      "23  12.1  12.1  12.1  12.1  12.1  12.1  12.1  12.1  12.1  12.1  ...  12.1   \n",
      "24  12.6  12.6  12.6  12.6  12.6  12.6  12.6  12.6  12.6  12.6  ...  12.6   \n",
      "25  13.1  13.1  13.1  13.1  13.1  13.1  13.1  13.1  13.1  13.1  ...  13.1   \n",
      "26  13.6  13.6  13.6  13.6  13.6  13.6  13.6  13.6  13.6  13.6  ...  13.6   \n",
      "27  14.1  14.1  14.1  14.1  14.1  14.1  14.1  14.1  14.1  14.1  ...  14.1   \n",
      "28  14.6  14.6  14.6  14.6  14.6  14.6  14.6  14.6  14.6  14.6  ...  14.6   \n",
      "29  15.1  15.1  15.1  15.1  15.1  15.1  15.1  15.1  15.1  15.1  ...  15.1   \n",
      "\n",
      "       0     0     0     0     0     0     0     0     0  \n",
      "0    0.6   0.6   0.6   0.6   0.6   0.6   0.6   0.6   0.6  \n",
      "1    1.1   1.1   1.1   1.1   1.1   1.1   1.1   1.1   1.1  \n",
      "2    1.6   1.6   1.6   1.6   1.6   1.6   1.6   1.6   1.6  \n",
      "3    2.1   2.1   2.1   2.1   2.1   2.1   2.1   2.1   2.1  \n",
      "4    2.6   2.6   2.6   2.6   2.6   2.6   2.6   2.6   2.6  \n",
      "5    3.1   3.1   3.1   3.1   3.1   3.1   3.1   3.1   3.1  \n",
      "6    3.6   3.6   3.6   3.6   3.6   3.6   3.6   3.6   3.6  \n",
      "7    4.1   4.1   4.1   4.1   4.1   4.1   4.1   4.1   4.1  \n",
      "8    4.6   4.6   4.6   4.6   4.6   4.6   4.6   4.6   4.6  \n",
      "9    5.1   5.1   5.1   5.1   5.1   5.1   5.1   5.1   5.1  \n",
      "10   5.6   5.6   5.6   5.6   5.6   5.6   5.6   5.6   5.6  \n",
      "11   6.1   6.1   6.1   6.1   6.1   6.1   6.1   6.1   6.1  \n",
      "12   6.6   6.6   6.6   6.6   6.6   6.6   6.6   6.6   6.6  \n",
      "13   7.1   7.1   7.1   7.1   7.1   7.1   7.1   7.1   7.1  \n",
      "14   7.6   7.6   7.6   7.6   7.6   7.6   7.6   7.6   7.6  \n",
      "15   8.1   8.1   8.1   8.1   8.1   8.1   8.1   8.1   8.1  \n",
      "16   8.6   8.6   8.6   8.6   8.6   8.6   8.6   8.6   8.6  \n",
      "17   9.1   9.1   9.1   9.1   9.1   9.1   9.1   9.1   9.1  \n",
      "18   9.6   9.6   9.6   9.6   9.6   9.6   9.6   9.6   9.6  \n",
      "19  10.1  10.1  10.1  10.1  10.1  10.1  10.1  10.1  10.1  \n",
      "20  10.6  10.6  10.6  10.6  10.6  10.6  10.6  10.6  10.6  \n",
      "21  11.1  11.1  11.1  11.1  11.1  11.1  11.1  11.1  11.1  \n",
      "22  11.6  11.6  11.6  11.6  11.6  11.6  11.6  11.6  11.6  \n",
      "23  12.1  12.1  12.1  12.1  12.1  12.1  12.1  12.1  12.1  \n",
      "24  12.6  12.6  12.6  12.6  12.6  12.6  12.6  12.6  12.6  \n",
      "25  13.1  13.1  13.1  13.1  13.1  13.1  13.1  13.1  13.1  \n",
      "26  13.6  13.6  13.6  13.6  13.6  13.6  13.6  13.6  13.6  \n",
      "27  14.1  14.1  14.1  14.1  14.1  14.1  14.1  14.1  14.1  \n",
      "28  14.6  14.6  14.6  14.6  14.6  14.6  14.6  14.6  14.6  \n",
      "29  15.1  15.1  15.1  15.1  15.1  15.1  15.1  15.1  15.1  \n",
      "\n",
      "[30 rows x 345600 columns]\n"
     ]
    }
   ],
   "source": [
    "n = len(data['AbsVel'])\n",
    "print(n, \"time steps = \", (n/sampling_frequency)/60/60, \"hrs\")\n",
    "df=data['CellDepth']\n",
    "CellDepth = pd.DataFrame(np.repeat(df.values, n, axis=1), columns=np.tile(df.columns, n))\n",
    "print(CellDepth)"
   ]
  },
  {
   "cell_type": "markdown",
   "metadata": {},
   "source": [
    "**Time** contains the date time for every measurement made by the ADCP in python’s datetime structure.\n",
    "\n",
    "**Heading, Pitch, and Roll**: These variables represent the orientation of the sensor. Based on a qualitative assessment of deployment and retrieval conditions of the bottom-mounted sensor (the instrument was found in the position in which it was placed during deployment, see Guide 2), we expect these measurements to remain constant throughout the deployment. If they are not constant, then the sensor was displaced and additional quality control corrections will need to be made."
   ]
  },
  {
   "cell_type": "code",
   "execution_count": 21,
   "metadata": {},
   "outputs": [
    {
     "name": "stdout",
     "output_type": "stream",
     "text": [
      "                          0\n",
      "0       1724151600126104000\n",
      "1       1724151600376103000\n",
      "2       1724151600625991000\n",
      "3       1724151600876090000\n",
      "4       1724151601126109000\n",
      "...                     ...\n",
      "345595  1724237998876091000\n",
      "345596  1724237999126109000\n",
      "345597  1724237999376098000\n",
      "345598  1724237999626097000\n",
      "345599  1724237999876095000\n",
      "\n",
      "[345600 rows x 1 columns]\n",
      "2024-08-20 18:30:00\n"
     ]
    }
   ],
   "source": [
    "# Since we are in group 1, the first 24 hrs of data collection, we need to identify a start time that represents when the ADCP is settled at the bottom of the ocean and no longer being moved. \n",
    "start_time = datetime.datetime(2024,8,20,18,30)\n",
    "print(data['Time'])\n",
    "print(start_time)"
   ]
  },
  {
   "cell_type": "code",
   "execution_count": 23,
   "metadata": {},
   "outputs": [
    {
     "data": {
      "image/png": "[encoded data removed]",
      "text/plain": [
       "<Figure size 720x432 with 1 Axes>"
      ]
     },
     "metadata": {
      "needs_background": "light"
     },
     "output_type": "display_data"
    }
   ],
   "source": [
    "# Plot Heading, Pitch, and Roll over time\n",
    "plt.figure(figsize=(10,6))\n",
    "plt.plot(data['Time'],data['Heading'], label='Heading')\n",
    "plt.plot(data['Time'],data['Pitch'], label='Pitch')\n",
    "plt.plot(data['Time'],data['Roll'], label='Roll')\n",
    "plt.xlabel('Date (DD HH:MM)')\n",
    "plt.ylabel('Degrees')\n",
    "plt.ylim(bottom= -10, top =105)\n",
    "# plt.xlim(left=start_time) # This is here for group 1 only to cut out transportation of sensor\n",
    "plt.legend()\n",
    "plt.show()"
   ]
  },
  {
   "cell_type": "markdown",
   "metadata": {},
   "source": [
    "In Group1, Heading and Pitch remain relatively constant, as expected. There are slight changes in Roll that can be identified from the graph."
   ]
  },
  {
   "cell_type": "markdown",
   "metadata": {},
   "source": [
    "**AbsVel(m/s)**: This is the absolute velocity. The absolute velocity is the magnitude of all the components measured. This field is useful for seeing broad trends in flow rates.  \n"
   ]
  },
  {
   "cell_type": "code",
   "execution_count": null,
   "metadata": {},
   "outputs": [],
   "source": [
    "# create a meshgrid of time and celldepth\n",
    "x,y=np.meshgrid(data['Time'],data['CellDepth'])\n",
    "z=data['AbsVel']"
   ]
  },
  {
   "cell_type": "code",
   "execution_count": null,
   "metadata": {},
   "outputs": [],
   "source": [
    "# Plot Velocity over time per cell\n",
    "plt.figure(figsize=(10,6))\n",
    "plt.pcolormesh(\n",
    "    x,y,z.T, cmap='inferno', shading='nearest', vmin=0, vmax=4\n",
    ")\n",
    "plt.ylim(top=10)\n",
    "plt.xlabel(\"Date (DD HH:MM)\")\n",
    "plt.ylabel(\"Depth (m)\")\n",
    "plt.title('Absolute Velocity over Depth')\n",
    "im1=plt.colorbar()\n",
    "im1.ax.set_ylabel(\"Absolute Velocity (m/s)\")\n",
    "plt.show()"
   ]
  },
  {
   "cell_type": "markdown",
   "metadata": {},
   "source": [
    "We can see that depth is changing over this 24 hour period due to the tidal range. Each color strip you see on the plot represented an averaged absolute velocity per cell per each sample taken (every 0.25 seconds or 4 Hz). The white space represents empty cells where the water depth was smaller than the maximum CellDepth the ADCP can measure. It can be helpfule to think of the white cells as the air above the ocean, whereas the colored cells are data from the surface of the ocean to the top of the ADCP sensor."
   ]
  },
  {
   "cell_type": "markdown",
   "metadata": {},
   "source": [
    "**VertVel(m/s)**: This is the vertical component of the velocities measured using beam 3. Beam 3 is in the instruments \"forward\" direction, and is used to measure the vertical velocity. We can create a similar plot to the one above.\n"
   ]
  },
  {
   "cell_type": "code",
   "execution_count": null,
   "metadata": {},
   "outputs": [],
   "source": [
    "# create a meshgrid of time and celldepth\n",
    "x,y=np.meshgrid(data['Time'],data['CellDepth'])\n",
    "z=data['VertVel']"
   ]
  },
  {
   "cell_type": "code",
   "execution_count": null,
   "metadata": {},
   "outputs": [],
   "source": [
    "# Plot Velocity over time per cell\n",
    "plt.figure(figsize=(10,6))\n",
    "plt.pcolormesh(\n",
    "    x,y,z.T, cmap='inferno', shading='nearest', vmin=-3, vmax=3 \n",
    ") \n",
    "plt.ylim(top=10)\n",
    "plt.xlabel(\"Date (DD HH:MM)\")\n",
    "plt.ylabel(\"Depth (m)\")\n",
    "plt.title('Velocity over Depth')\n",
    "im1=plt.colorbar()\n",
    "im1.ax.set_ylabel(\"Velocity (m/s)\")\n",
    "plt.show()"
   ]
  },
  {
   "cell_type": "markdown",
   "metadata": {},
   "source": [
    "Again, we can see that depth is changing over this 24 hour period due to the tidal range. Each color strip you see on the plot represented an averaged vertical velocity component per cell per each sample taken (every 0.25 seconds or 4 Hz)."
   ]
  },
  {
   "cell_type": "markdown",
   "metadata": {},
   "source": [
    "**EastVel and NorthVel**: These are the east and north velocity components and can be used to assess phase wrapping. Phase wrapping happens when the second signal sent out by the instrument is sent before the first signal has been received by the instrument. The instrument is then unabke to differentiate between the first and second signal, and therefore unable to record the velocity for that collection. This can be done by creating distribution plots of each component. \n",
    "\n",
    "These are each 345600 rows x 30 columns, where the rows represent collection time and the columns represent each cell (described in CellDepth). \n"
   ]
  },
  {
   "cell_type": "markdown",
   "metadata": {},
   "source": [
    "**ErrVel (m/s)**: The error velocity is made by using two different beams to measure the same velocity component, in our case the vertical velocity, and finding the difference between each. This means that if you are seeing large ErrVel values you likely have a beam failure or something interfering with the beam. Values of ~.1 are acceptable since the values are measured in slightly different locations due to the different angles of the beam. \n",
    "This dataframe is 345600 rows x 30 columns, where the rows represent collection time and the columns represent each cell. "
   ]
  },
  {
   "cell_type": "code",
   "execution_count": null,
   "metadata": {},
   "outputs": [],
   "source": [
    "# create a meshgrid of time and celldepth\n",
    "x,y=np.meshgrid(data['Time'],data['CellDepth'])\n",
    "z=data['ErrVel']\n"
   ]
  },
  {
   "cell_type": "code",
   "execution_count": null,
   "metadata": {},
   "outputs": [],
   "source": [
    "# Plot\n",
    "plt.figure(figsize=(10,6))\n",
    "plt.pcolormesh(\n",
    "    x,y,z.T, cmap='inferno', shading='nearest', vmin=0, vmax=0.25\n",
    ")\n",
    "plt.xlim(left=datetime.datetime(2024,8,20,18,30))\n",
    "plt.ylim(top=10)\n",
    "plt.xlabel(\"Date (DD HH:MM)\")\n",
    "plt.ylabel(\"Depth (m)\")\n",
    "plt.title('Velocity Error over Depth')\n",
    "im1=plt.colorbar()\n",
    "im1.ax.set_ylabel(\"Velocity Error (m/s)\")\n",
    "plt.show()"
   ]
  },
  {
   "cell_type": "markdown",
   "metadata": {},
   "source": [
    "**Pressure (db)**: The Pressure variable represents the pressure that the sensor “feels” above it. It can be plotted for a quick check.\n",
    "\n"
   ]
  },
  {
   "cell_type": "code",
   "execution_count": null,
   "metadata": {},
   "outputs": [],
   "source": [
    "plt.figure(figsize=(10,6))\n",
    "plt.plot(data['Time'],data['Pressure'])\n",
    "plt.xlabel('Time')\n",
    "plt.xlim(left=start_time)\n",
    "plt.ylabel('Pressure (db)')\n",
    "plt.ylim(bottom=7, top=11)\n",
    "plt.show()"
   ]
  },
  {
   "cell_type": "markdown",
   "metadata": {},
   "source": [
    "Deriving the water depth from pressure is a 1:1 conversion using the hydrostatic pressure equation. "
   ]
  },
  {
   "cell_type": "code",
   "execution_count": null,
   "metadata": {},
   "outputs": [],
   "source": [
    "# convert db to Pa\n",
    "pressure_Pa=data['Pressure']*10000\n",
    "# gravitational constant\n",
    "g=9.81 # (m/s)\n",
    "# density of sea water \n",
    "rho=1024 # (kg/m^3)\n",
    "# use hydrostatic pressure equation to relate pressure to depth (P=rho*g*h)\n",
    "depth=pressure_Pa/(g*rho)"
   ]
  },
  {
   "cell_type": "code",
   "execution_count": null,
   "metadata": {},
   "outputs": [],
   "source": [
    "plt.figure(figsize=(10,6))\n",
    "plt.plot(data['Time'],depth)\n",
    "plt.xlabel('Time')\n",
    "plt.xlim(left=start_time)\n",
    "plt.ylabel('Depth (m)')\n",
    "plt.ylim(bottom=7, top=11)\n",
    "plt.show()"
   ]
  }
 ],
 "metadata": {
  "kernelspec": {
   "display_name": "Python 3",
   "language": "python",
   "name": "python3"
  },
  "language_info": {
   "codemirror_mode": {
    "name": "ipython",
    "version": 3
   },
   "file_extension": ".py",
   "mimetype": "text/x-python",
   "name": "python",
   "nbconvert_exporter": "python",
   "pygments_lexer": "ipython3",
   "version": "3.7.4"
  }
 },
 "nbformat": 4,
 "nbformat_minor": 2
}
